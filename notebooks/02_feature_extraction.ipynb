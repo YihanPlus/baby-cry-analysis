{
 "cells": [
  {
   "cell_type": "markdown",
   "id": "16fccde6",
   "metadata": {},
   "source": [
    "Section 1: File Path Collection\n",
    "\n",
    "We collect all .wav file paths from the dataset folder (recursively) and infer their labels from filenames.\n",
    "Then we export the list to data/audio_filepaths.csv for reproducible access in later steps."
   ]
  },
  {
   "cell_type": "code",
   "execution_count": null,
   "id": "214cf401",
   "metadata": {},
   "outputs": [],
   "source": [
    "import pandas as pd\n",
    "from src.data_loader import get_audio_file_paths, export_file_list_to_csv\n",
    "\n",
    "from utils_notebook_init import init_notebook\n",
    "init_notebook()"
   ]
  },
  {
   "cell_type": "code",
   "execution_count": null,
   "id": "744b6acc",
   "metadata": {},
   "outputs": [],
   "source": [
    "data_dir = \"data/raw\"\n",
    "files, labels = get_audio_file_paths(data_dir)\n",
    "\n",
    "print(f\"✅ Found {len(files)} audio files in {data_dir}\")\n",
    "print(\"Example file paths:\", files[:3])\n",
    "print(\"Example labels:\", labels[:3])"
   ]
  },
  {
   "cell_type": "code",
   "execution_count": null,
   "id": "1e3ab917",
   "metadata": {},
   "outputs": [],
   "source": [
    "output_csv = \"data/audio_filepaths.csv\"\n",
    "export_file_list_to_csv(files, labels, output_csv)"
   ]
  },
  {
   "cell_type": "code",
   "execution_count": null,
   "id": "35ef0d39",
   "metadata": {},
   "outputs": [],
   "source": [
    "df = pd.read_csv(output_csv)\n",
    "print(f\"✅ CSV successfully created at: {output_csv}\")\n",
    "display(df.head())\n",
    "print(f\"Unique labels found: {df['label'].nunique()}\")\n",
    "print(\"Label distribution:\")\n",
    "print(df['label'].value_counts())\n"
   ]
  },
  {
   "cell_type": "markdown",
   "id": "88a1761a",
   "metadata": {},
   "source": [
    "Section 2: Data Splitting\n",
    "\n",
    "We’ll split the dataset into train, validation, and test sets using the file list from audio_filepaths.csv.\n",
    "Each subset keeps balanced class proportions (stratified).\n",
    "Output files:\n",
    "\n",
    "data/train_split.csv\n",
    "data/val_split.csv\n",
    "data/test_split.csv"
   ]
  },
  {
   "cell_type": "code",
   "execution_count": null,
   "id": "54f38ac6",
   "metadata": {},
   "outputs": [],
   "source": [
    "from sklearn.model_selection import train_test_split\n",
    "import pandas as pd"
   ]
  },
  {
   "cell_type": "code",
   "execution_count": null,
   "id": "b5d570e8",
   "metadata": {},
   "outputs": [],
   "source": [
    "# Step 1: Load the audio file paths CSV\n",
    "df = pd.read_csv(\"data/audio_filepaths.csv\")\n",
    "print(f\"Total samples: {len(df)}\")\n",
    "print(df.head())"
   ]
  },
  {
   "cell_type": "code",
   "execution_count": null,
   "id": "4722bd91",
   "metadata": {},
   "outputs": [],
   "source": [
    "# Step 2: Split into train / test first\n",
    "train_df, test_df = train_test_split(\n",
    "    df,\n",
    "    test_size=0.2,\n",
    "    random_state=42,\n",
    "    stratify=df[\"label\"]\n",
    ")"
   ]
  },
  {
   "cell_type": "code",
   "execution_count": null,
   "id": "55984cca",
   "metadata": {},
   "outputs": [],
   "source": [
    "# Step 3: Split train into train / val\n",
    "train_df, val_df = train_test_split(\n",
    "    train_df,\n",
    "    test_size=0.15,\n",
    "    random_state=42,\n",
    "    stratify=train_df[\"label\"]\n",
    ")\n",
    "\n",
    "print(f\"Train: {len(train_df)}, Val: {len(val_df)}, Test: {len(test_df)}\")"
   ]
  },
  {
   "cell_type": "code",
   "execution_count": null,
   "id": "10afedb1",
   "metadata": {},
   "outputs": [],
   "source": [
    "# Step 4: save them for future reuse\n",
    "train_df.to_csv(\"data/train_split.csv\", index=False)\n",
    "val_df.to_csv(\"data/val_split.csv\", index=False)\n",
    "test_df.to_csv(\"data/test_split.csv\", index=False)\n",
    "print(\"✅ Saved data splits to CSV.\")"
   ]
  }
 ],
 "metadata": {
  "kernelspec": {
   "display_name": "Python 3 (ipykernel)",
   "language": "python",
   "name": "python3"
  },
  "language_info": {
   "codemirror_mode": {
    "name": "ipython",
    "version": 3
   },
   "file_extension": ".py",
   "mimetype": "text/x-python",
   "name": "python",
   "nbconvert_exporter": "python",
   "pygments_lexer": "ipython3",
   "version": "3.13.7"
  }
 },
 "nbformat": 4,
 "nbformat_minor": 5
}
