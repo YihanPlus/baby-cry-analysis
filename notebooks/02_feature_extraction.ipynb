{
 "cells": [
  {
   "cell_type": "code",
   "execution_count": null,
   "id": "214cf401",
   "metadata": {},
   "outputs": [],
   "source": [
    "import sys, os\n",
    "import pandas as pd\n",
    "from src.data_loader import get_audio_file_paths, export_file_list_to_csv\n",
    "\n",
    "from utils_notebook_init import init_notebook\n",
    "init_notebook()"
   ]
  },
  {
   "cell_type": "code",
   "execution_count": null,
   "id": "744b6acc",
   "metadata": {},
   "outputs": [],
   "source": [
    "data_dir = \"data/raw\"\n",
    "files, labels = get_audio_file_paths(data_dir)\n",
    "\n",
    "print(f\"✅ Found {len(files)} audio files in {data_dir}\")\n",
    "print(\"Example file paths:\", files[:3])\n",
    "print(\"Example labels:\", labels[:3])"
   ]
  },
  {
   "cell_type": "code",
   "execution_count": null,
   "id": "1b527bd1",
   "metadata": {},
   "outputs": [],
   "source": []
  },
  {
   "cell_type": "code",
   "execution_count": null,
   "id": "1e3ab917",
   "metadata": {},
   "outputs": [],
   "source": [
    "output_csv = \"data/audio_filepaths.csv\"\n",
    "export_file_list_to_csv(files, labels, output_csv)"
   ]
  },
  {
   "cell_type": "code",
   "execution_count": null,
   "id": "35ef0d39",
   "metadata": {},
   "outputs": [],
   "source": [
    "df = pd.read_csv(output_csv)\n",
    "print(f\"✅ CSV successfully created at: {output_csv}\")\n",
    "display(df.head())\n",
    "print(f\"Unique labels found: {df['label'].nunique()}\")\n",
    "print(\"Label distribution:\")\n",
    "print(df['label'].value_counts())\n"
   ]
  }
 ],
 "metadata": {
  "kernelspec": {
   "display_name": "Python 3 (ipykernel)",
   "language": "python",
   "name": "python3"
  },
  "language_info": {
   "codemirror_mode": {
    "name": "ipython",
    "version": 3
   },
   "file_extension": ".py",
   "mimetype": "text/x-python",
   "name": "python",
   "nbconvert_exporter": "python",
   "pygments_lexer": "ipython3",
   "version": "3.13.7"
  }
 },
 "nbformat": 4,
 "nbformat_minor": 5
}
